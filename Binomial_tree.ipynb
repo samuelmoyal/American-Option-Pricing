{
 "cells": [
  {
   "cell_type": "code",
   "execution_count": 33,
   "metadata": {},
   "outputs": [],
   "source": [
    "import matplotlib.pyplot as plt\n",
    "import numpy as np\n",
    "from scipy.optimize import minimize\n",
    "from scipy.special import comb\n",
    "from scipy.stats import norm"
   ]
  },
  {
   "cell_type": "markdown",
   "metadata": {},
   "source": [
    "# Valeurs initiales"
   ]
  },
  {
   "cell_type": "code",
   "execution_count": 44,
   "metadata": {},
   "outputs": [],
   "source": [
    "L = 10 #time horizon\n",
    "nb_iter = 100 #nb d'itérations pour la simulation de Montecarlo\n",
    "m = 30 #dimension de l'espace de projection\n",
    "\n",
    "X_0 = 100 # prix initial\n",
    "K_0 = 85 #strike\n",
    "sigma = 0.2 # volatility\n",
    "\n",
    "valeurs_sigma = np.linspace(0.05, 0.25, 10)\n",
    "valeurs_strike = np.linspace(85, 120, 10)"
   ]
  },
  {
   "cell_type": "code",
   "execution_count": 45,
   "metadata": {},
   "outputs": [],
   "source": [
    "def binom_EU1(S0, K , T, r, sigma, N, type_ = 'call'):\n",
    "    dt = T/N\n",
    "    u = np.exp(sigma * np.sqrt(dt))\n",
    "    d = np.exp(-sigma * np.sqrt(dt))\n",
    "    p = (  np.exp(r*dt) - d )  /  (  u - d )\n",
    "    value = 0 \n",
    "    for i in range(N+1):\n",
    "        node_prob = comb(N, i)*p**i*(1-p)**(N-i)\n",
    "        ST = S0*(u)**i*(d)**(N-i)\n",
    "        if type_ == 'call':\n",
    "            value += max(ST-K,0) * node_prob\n",
    "        elif type_ == 'put':\n",
    "            value += max(K-ST, 0)*node_prob\n",
    "        else:\n",
    "            raise ValueError(\"type_ must be 'call' or 'put'\" )\n",
    "    \n",
    "    return value*np.exp(-r*T)"
   ]
  },
  {
   "cell_type": "code",
   "execution_count": 46,
   "metadata": {},
   "outputs": [
    {
     "data": {
      "text/plain": [
       "31.646099631307656"
      ]
     },
     "execution_count": 46,
     "metadata": {},
     "output_type": "execute_result"
    }
   ],
   "source": [
    "binom_EU1(X_0, K_0, L, 0, sigma, L, type_='call')"
   ]
  },
  {
   "cell_type": "code",
   "execution_count": 47,
   "metadata": {},
   "outputs": [
    {
     "data": {
      "text/plain": [
       "\"binomial_premium2 = []\\nfor sig in valeurs_sigma:\\n    binomial_premium2.append(binom_EU1(X_0, K_0, L, 0, sig, L, type_='put'))\\n\""
      ]
     },
     "execution_count": 47,
     "metadata": {},
     "output_type": "execute_result"
    }
   ],
   "source": [
    "binomial_premium1 = []\n",
    "for strike in valeurs_strike:\n",
    "    binomial_premium1.append(binom_EU1(X_0, strike, L, 0, sigma, L, type_='put'))\n",
    "    \n",
    "'''binomial_premium2 = []\n",
    "for sig in valeurs_sigma:\n",
    "    binomial_premium2.append(binom_EU1(X_0, K_0, L, 0, sig, L, type_='put'))\n",
    "'''"
   ]
  },
  {
   "cell_type": "code",
   "execution_count": 48,
   "metadata": {},
   "outputs": [
    {
     "name": "stdout",
     "output_type": "stream",
     "text": [
      "[16.646099631307663, 18.60599436549075, 20.56588909967384, 22.525783833856934, 24.61574027513224, 27.486066958960798, 30.356393642789357, 33.22672032661793, 36.09704701044649, 38.96737369427505]\n"
     ]
    }
   ],
   "source": [
    "print(binomial_premium1)"
   ]
  },
  {
   "cell_type": "code",
   "execution_count": 49,
   "metadata": {},
   "outputs": [],
   "source": [
    "def black_scholes(S, K, T, r, sigma, option_type='call'):\n",
    "    \"\"\"\n",
    "    Calculates the Black-Scholes option price for a European call or put option.\n",
    "    \n",
    "    Parameters:\n",
    "    S (float): Spot price of the underlying asset.\n",
    "    K (float): Strike price of the option.\n",
    "    T (float): Time to maturity (in years).\n",
    "    r (float): Risk-free interest rate (annual).\n",
    "    sigma (float): Volatility of the underlying asset (annual).\n",
    "    option_type (str): Type of the option ('call' or 'put').\n",
    "    \n",
    "    Returns:\n",
    "    float: Price of the European option (call or put).\n",
    "    \"\"\"\n",
    "    # Calculate d1 and d2 components of the Black-Scholes formula\n",
    "    d1 = (np.log(S / K) + (r + 0.5 * sigma ** 2) * T) / (sigma * np.sqrt(T))\n",
    "    d2 = d1 - sigma * np.sqrt(T)\n",
    "    \n",
    "    if option_type == 'call':\n",
    "        # Calculate the call option price\n",
    "        option_price = (S * norm.cdf(d1) - K * np.exp(-r * T) * norm.cdf(d2))\n",
    "    elif option_type == 'put':\n",
    "        # Calculate the put option price\n",
    "        option_price = (K * np.exp(-r * T) * norm.cdf(-d2) - S * norm.cdf(-d1))\n",
    "    else:\n",
    "        raise ValueError(\"option_type must be 'call' or 'put'\")\n",
    "    \n",
    "    return option_price"
   ]
  },
  {
   "cell_type": "code",
   "execution_count": 50,
   "metadata": {},
   "outputs": [
    {
     "data": {
      "text/plain": [
       "array([16.18272117, 18.27413591, 20.47197104, 22.77064638, 25.16467397,\n",
       "       27.64870544, 30.21756639, 32.8662806 , 35.59008578, 38.38444297])"
      ]
     },
     "execution_count": 50,
     "metadata": {},
     "output_type": "execute_result"
    }
   ],
   "source": [
    "black_scholes(X_0, valeurs_strike, L, 0, sigma, option_type='put')"
   ]
  },
  {
   "cell_type": "code",
   "execution_count": 51,
   "metadata": {},
   "outputs": [
    {
     "data": {
      "text/plain": [
       "array([ 1.14914138,  2.9389606 ,  5.05103614,  7.31213907,  9.64631705,\n",
       "       12.01518293, 14.39676433, 16.77711271, 19.14658236, 21.49802233])"
      ]
     },
     "execution_count": 51,
     "metadata": {},
     "output_type": "execute_result"
    }
   ],
   "source": [
    "black_scholes(X_0, K_0, L, 0, valeurs_sigma, option_type='put')"
   ]
  }
 ],
 "metadata": {
  "kernelspec": {
   "display_name": "Python 3",
   "language": "python",
   "name": "python3"
  },
  "language_info": {
   "codemirror_mode": {
    "name": "ipython",
    "version": 3
   },
   "file_extension": ".py",
   "mimetype": "text/x-python",
   "name": "python",
   "nbconvert_exporter": "python",
   "pygments_lexer": "ipython3",
   "version": "3.10.6"
  }
 },
 "nbformat": 4,
 "nbformat_minor": 2
}
